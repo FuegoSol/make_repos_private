{
 "cells": [
  {
   "cell_type": "code",
   "execution_count": null,
   "id": "6828154a",
   "metadata": {},
   "outputs": [],
   "source": [
    "import requests\n",
    "import getpass\n",
    "\n",
    "# Prompt the user for their GitHub username and personal access token\n",
    "username = input(\"GitHub username: \")\n",
    "token = getpass.getpass(\"GitHub personal access token: \")\n",
    "\n",
    "# Define the endpoint\n",
    "endpoint = \"https://api.github.com/user/repos\"\n",
    "\n",
    "# Make a GET request to the endpoint to get a list of repositories\n",
    "response = requests.get(endpoint, auth=(username, token))\n",
    "\n",
    "# Check if the request was successful\n",
    "if response.status_code == 200:\n",
    "    # Get the list of repositories from the response\n",
    "    repositories = response.json()\n",
    "    # Loop through each repository and make it private\n",
    "    for repository in repositories:\n",
    "        repository_url = repository[\"url\"]\n",
    "        data = {\"private\": True}\n",
    "        patch_response = requests.patch(repository_url, auth=(username, token), json=data)\n",
    "        if patch_response.status_code == 200:\n",
    "            print(f\"Successfully made repository {repository['name']} private\")\n",
    "        else:\n",
    "            print(f\"Failed to make repository {repository['name']} private\")\n",
    "else:\n",
    "    print(\"Failed to retrieve list of repositories\")\n"
   ]
  }
 ],
 "metadata": {
  "kernelspec": {
   "display_name": "Python 3 (ipykernel)",
   "language": "python",
   "name": "python3"
  },
  "language_info": {
   "codemirror_mode": {
    "name": "ipython",
    "version": 3
   },
   "file_extension": ".py",
   "mimetype": "text/x-python",
   "name": "python",
   "nbconvert_exporter": "python",
   "pygments_lexer": "ipython3",
   "version": "3.9.16"
  }
 },
 "nbformat": 4,
 "nbformat_minor": 5
}
